{
 "cells": [
  {
   "cell_type": "code",
   "execution_count": 1,
   "id": "7f8125d6",
   "metadata": {},
   "outputs": [],
   "source": [
    "#1. DATA CLEANSING\n",
    "#import library\n",
    "import pandas as pd\n",
    "import numpy as np\n",
    "import seaborn as sns\n",
    "import matplotlib.pyplot as plt\n",
    "import sqlite3\n",
    "from matplotlib import pyplot as plt"
   ]
  },
  {
   "cell_type": "code",
   "execution_count": 2,
   "id": "22982e52",
   "metadata": {},
   "outputs": [],
   "source": [
    "#import warnings\n",
    "import warnings\n",
    "warnings.filterwarnings('ignore')\n",
    "pd.set_option('display.max_columns', None)"
   ]
  },
  {
   "cell_type": "code",
   "execution_count": 3,
   "id": "00679c5d",
   "metadata": {},
   "outputs": [
    {
     "name": "stdout",
     "output_type": "stream",
     "text": [
      "                                name\n",
      "0       olist_order_customer_dataset\n",
      "1                olist_order_dataset\n",
      "2        olist_order_reviews_dataset\n",
      "3       olist_order_payments_dataset\n",
      "4          olist_order_items_dataset\n",
      "5             olist_products_dataset\n",
      "6              olist_sellers_dataset\n",
      "7          olist_geolocation_dataset\n",
      "8  product_category_name_translation\n"
     ]
    }
   ],
   "source": [
    "#Melihat isi database olist\n",
    "conn = sqlite3.connect('olist.db')\n",
    "list_table = pd.read_sql(\"SELECT name FROM sqlite_master WHERE type='table';\", conn)\n",
    "print(list_table)"
   ]
  },
  {
   "cell_type": "code",
   "execution_count": 4,
   "id": "2636462c",
   "metadata": {},
   "outputs": [],
   "source": [
    "#Membaca dan mengambil data dari database\n",
    "conn = sqlite3.connect('olist.db')\n",
    "query1 = 'SELECT * FROM olist_order_customer_dataset' \n",
    "customers = pd.read_sql(query1, conn)\n",
    "\n",
    "query2 = 'SELECT * FROM olist_order_dataset' \n",
    "orders = pd.read_sql(query2, conn)\n",
    "\n",
    "query3 = 'SELECT * FROM olist_order_items_dataset' \n",
    "order_items = pd.read_sql(query3, conn)\n",
    "\n",
    "query4 = 'SELECT * FROM olist_order_payments_dataset' \n",
    "payments = pd.read_sql(query4, conn)\n",
    "\n",
    "query5 = 'SELECT * FROM olist_products_dataset' \n",
    "products = pd.read_sql(query5, conn)\n",
    "\n",
    "query6 = 'SELECT * FROM product_category_name_translation'\n",
    "product_category_name_translation = pd.read_sql(query6, conn)"
   ]
  },
  {
   "cell_type": "code",
   "execution_count": 5,
   "id": "091b9b10",
   "metadata": {},
   "outputs": [
    {
     "name": "stdout",
     "output_type": "stream",
     "text": [
      "<class 'pandas.core.frame.DataFrame'>\n",
      "RangeIndex: 99441 entries, 0 to 99440\n",
      "Data columns (total 9 columns):\n",
      " #   Column                         Non-Null Count  Dtype \n",
      "---  ------                         --------------  ----- \n",
      " 0   index                          99441 non-null  int64 \n",
      " 1   order_id                       99441 non-null  object\n",
      " 2   customer_id                    99441 non-null  object\n",
      " 3   order_status                   99441 non-null  object\n",
      " 4   order_purchase_timestamp       99441 non-null  object\n",
      " 5   order_approved_at              99281 non-null  object\n",
      " 6   order_delivered_carrier_date   97658 non-null  object\n",
      " 7   order_delivered_customer_date  96476 non-null  object\n",
      " 8   order_estimated_delivery_date  99441 non-null  object\n",
      "dtypes: int64(1), object(8)\n",
      "memory usage: 6.8+ MB\n"
     ]
    }
   ],
   "source": [
    "#cek tipe data kolom tabel orders\n",
    "orders.info()"
   ]
  },
  {
   "cell_type": "code",
   "execution_count": 78,
   "id": "acf27333",
   "metadata": {},
   "outputs": [],
   "source": [
    "#parsing date\n",
    "orders['order_purchase_timestamp'] = pd.to_datetime(orders['order_purchase_timestamp'])\n",
    "orders['order_approved_at'] = pd.to_datetime(orders['order_approved_at'])\n",
    "orders['order_delivered_carrier_date'] = pd.to_datetime(orders['order_delivered_carrier_date'])\n",
    "orders['order_delivered_customer_date'] = pd.to_datetime(orders['order_delivered_customer_date'])\n",
    "orders['order_estimated_delivery_date'] = pd.to_datetime(orders['order_estimated_delivery_date'])\n",
    "orders['order_purchase_hour'] = pd.to_datetime(orders['order_purchase_timestamp']).dt.strftime('%H')\n"
   ]
  },
  {
   "cell_type": "code",
   "execution_count": 7,
   "id": "b27c7a8d",
   "metadata": {},
   "outputs": [
    {
     "name": "stdout",
     "output_type": "stream",
     "text": [
      "<class 'pandas.core.frame.DataFrame'>\n",
      "RangeIndex: 99441 entries, 0 to 99440\n",
      "Data columns (total 9 columns):\n",
      " #   Column                         Non-Null Count  Dtype         \n",
      "---  ------                         --------------  -----         \n",
      " 0   index                          99441 non-null  int64         \n",
      " 1   order_id                       99441 non-null  object        \n",
      " 2   customer_id                    99441 non-null  object        \n",
      " 3   order_status                   99441 non-null  object        \n",
      " 4   order_purchase_timestamp       99441 non-null  datetime64[ns]\n",
      " 5   order_approved_at              99281 non-null  datetime64[ns]\n",
      " 6   order_delivered_carrier_date   97658 non-null  datetime64[ns]\n",
      " 7   order_delivered_customer_date  96476 non-null  datetime64[ns]\n",
      " 8   order_estimated_delivery_date  99441 non-null  datetime64[ns]\n",
      "dtypes: datetime64[ns](5), int64(1), object(3)\n",
      "memory usage: 6.8+ MB\n"
     ]
    }
   ],
   "source": [
    "#cek tipe data kolom tabel orders\n",
    "orders.info()"
   ]
  },
  {
   "cell_type": "code",
   "execution_count": 8,
   "id": "e8851e35",
   "metadata": {},
   "outputs": [
    {
     "data": {
      "text/html": [
       "<div>\n",
       "<style scoped>\n",
       "    .dataframe tbody tr th:only-of-type {\n",
       "        vertical-align: middle;\n",
       "    }\n",
       "\n",
       "    .dataframe tbody tr th {\n",
       "        vertical-align: top;\n",
       "    }\n",
       "\n",
       "    .dataframe thead th {\n",
       "        text-align: right;\n",
       "    }\n",
       "</style>\n",
       "<table border=\"1\" class=\"dataframe\">\n",
       "  <thead>\n",
       "    <tr style=\"text-align: right;\">\n",
       "      <th></th>\n",
       "      <th>index</th>\n",
       "      <th>order_item_id</th>\n",
       "      <th>price</th>\n",
       "      <th>freight_value</th>\n",
       "    </tr>\n",
       "  </thead>\n",
       "  <tbody>\n",
       "    <tr>\n",
       "      <th>count</th>\n",
       "      <td>112650.000000</td>\n",
       "      <td>112650.000000</td>\n",
       "      <td>112650.000000</td>\n",
       "      <td>112650.000000</td>\n",
       "    </tr>\n",
       "    <tr>\n",
       "      <th>mean</th>\n",
       "      <td>56324.500000</td>\n",
       "      <td>1.197834</td>\n",
       "      <td>120.653739</td>\n",
       "      <td>19.990320</td>\n",
       "    </tr>\n",
       "    <tr>\n",
       "      <th>std</th>\n",
       "      <td>32519.398249</td>\n",
       "      <td>0.705124</td>\n",
       "      <td>183.633928</td>\n",
       "      <td>15.806405</td>\n",
       "    </tr>\n",
       "    <tr>\n",
       "      <th>min</th>\n",
       "      <td>0.000000</td>\n",
       "      <td>1.000000</td>\n",
       "      <td>0.850000</td>\n",
       "      <td>0.000000</td>\n",
       "    </tr>\n",
       "    <tr>\n",
       "      <th>25%</th>\n",
       "      <td>28162.250000</td>\n",
       "      <td>1.000000</td>\n",
       "      <td>39.900000</td>\n",
       "      <td>13.080000</td>\n",
       "    </tr>\n",
       "    <tr>\n",
       "      <th>50%</th>\n",
       "      <td>56324.500000</td>\n",
       "      <td>1.000000</td>\n",
       "      <td>74.990000</td>\n",
       "      <td>16.260000</td>\n",
       "    </tr>\n",
       "    <tr>\n",
       "      <th>75%</th>\n",
       "      <td>84486.750000</td>\n",
       "      <td>1.000000</td>\n",
       "      <td>134.900000</td>\n",
       "      <td>21.150000</td>\n",
       "    </tr>\n",
       "    <tr>\n",
       "      <th>max</th>\n",
       "      <td>112649.000000</td>\n",
       "      <td>21.000000</td>\n",
       "      <td>6735.000000</td>\n",
       "      <td>409.680000</td>\n",
       "    </tr>\n",
       "  </tbody>\n",
       "</table>\n",
       "</div>"
      ],
      "text/plain": [
       "               index  order_item_id          price  freight_value\n",
       "count  112650.000000  112650.000000  112650.000000  112650.000000\n",
       "mean    56324.500000       1.197834     120.653739      19.990320\n",
       "std     32519.398249       0.705124     183.633928      15.806405\n",
       "min         0.000000       1.000000       0.850000       0.000000\n",
       "25%     28162.250000       1.000000      39.900000      13.080000\n",
       "50%     56324.500000       1.000000      74.990000      16.260000\n",
       "75%     84486.750000       1.000000     134.900000      21.150000\n",
       "max    112649.000000      21.000000    6735.000000     409.680000"
      ]
     },
     "execution_count": 8,
     "metadata": {},
     "output_type": "execute_result"
    }
   ],
   "source": [
    "# Identifikasi outlier melalui statistik deskriptif\n",
    "order_items.describe()"
   ]
  },
  {
   "cell_type": "code",
   "execution_count": 9,
   "id": "aa69e451",
   "metadata": {},
   "outputs": [
    {
     "data": {
      "text/plain": [
       "Text(0, 0.5, 'jumlah')"
      ]
     },
     "execution_count": 9,
     "metadata": {},
     "output_type": "execute_result"
    },
    {
     "data": {
      "image/png": "[encoded data removed]",
      "text/plain": [
       "<Figure size 1080x432 with 2 Axes>"
      ]
     },
     "metadata": {
      "needs_background": "light"
     },
     "output_type": "display_data"
    }
   ],
   "source": [
    "#identifikasi outlier pada kolom price dan freight_value\n",
    "\n",
    "fig, ax = plt.subplots(ncols=2, nrows=1,figsize = (15,6))\n",
    "\n",
    "sns.histplot(data=order_items, x='price', ax= ax[0])\n",
    "plt.ylabel('jumlah')\n",
    "\n",
    "sns.histplot(data=order_items, x='freight_value', ax= ax[1])\n",
    "plt.ylabel('jumlah')"
   ]
  },
  {
   "cell_type": "code",
   "execution_count": 10,
   "id": "70082694",
   "metadata": {},
   "outputs": [],
   "source": [
    "#handling outlier price\n",
    "\n",
    "##Menghitung Q1 dan Q3 kolom price\n",
    "Q1_price = order_items.price.quantile(0.25)\n",
    "Q3_price = order_items.price.quantile(0.75)\n",
    "\n",
    "##Menghitung batas bawah dan batas atas kolom price\n",
    "batas_bawah_price = Q1_price - (Q3_price-Q1_price)*1.5\n",
    "batas_atas_price = Q3_price + (Q3_price-Q1_price)*1.5\n",
    "\n",
    "order_items_handling_outlier_price = order_items\n",
    "\n",
    "##Menghitung Median dari kolom price\n",
    "median_price = order_items['price'].median()\n",
    "\n",
    "##melakukan imputasi data outlier dengan median\n",
    "order_items_handling_outlier_price.loc[order_items_handling_outlier_price['price'] > batas_atas_price, 'price'] = median_price\n",
    "\n",
    "\n",
    "\n",
    "#handling outlier freight_value\n",
    "\n",
    "##Menghitung Q1 dan Q3 kolom freight_value\n",
    "Q1_freight_value = order_items.freight_value.quantile(0.25)\n",
    "Q3_freight_value = order_items.freight_value.quantile(0.75)\n",
    "\n",
    "##Menghitung batas bawah dan batas atas kolom freight_value\n",
    "batas_bawah_freight_value = Q1_freight_value - (Q3_freight_value-Q1_freight_value)*1.5\n",
    "batas_atas_freight_value = Q3_freight_value + (Q3_freight_value-Q1_freight_value)*1.5\n",
    "\n",
    "##Menghitung Median dari kolom freight_value\n",
    "median_freight_value = order_items['freight_value'].median()\n",
    "\n",
    "order_items_handling_outlier_price_n_freight_value = order_items_handling_outlier_price\n",
    "\n",
    "##melakukan imputasi data outlier dengan median\n",
    "order_items_handling_outlier_price_n_freight_value.loc[order_items_handling_outlier_price_n_freight_value['freight_value'] > batas_atas_freight_value, 'freight_value'] = median_freight_value"
   ]
  },
  {
   "cell_type": "code",
   "execution_count": 11,
   "id": "1312e828",
   "metadata": {},
   "outputs": [
    {
     "data": {
      "text/plain": [
       "<AxesSubplot:xlabel='freight_value', ylabel='Count'>"
      ]
     },
     "execution_count": 11,
     "metadata": {},
     "output_type": "execute_result"
    },
    {
     "data": {
      "image/png": "[encoded data removed]",
      "text/plain": [
       "<Figure size 864x576 with 2 Axes>"
      ]
     },
     "metadata": {
      "needs_background": "light"
     },
     "output_type": "display_data"
    }
   ],
   "source": [
    "#menampilkan distribusi tabel order items setelah handle outlier\n",
    "fig, ax = plt.subplots(ncols=2, nrows=1,figsize = (12,8))\n",
    "\n",
    "sns.histplot(data=order_items_handling_outlier_price_n_freight_value, x='price', ax= ax[0])\n",
    "\n",
    "sns.histplot(data=order_items_handling_outlier_price_n_freight_value, x='freight_value', ax= ax[1])"
   ]
  },
  {
   "cell_type": "code",
   "execution_count": 12,
   "id": "74602864",
   "metadata": {},
   "outputs": [
    {
     "data": {
      "text/plain": [
       "<AxesSubplot:xlabel='payment_value', ylabel='Count'>"
      ]
     },
     "execution_count": 12,
     "metadata": {},
     "output_type": "execute_result"
    },
    {
     "data": {
      "image/png": "[encoded data removed]",
      "text/plain": [
       "<Figure size 720x432 with 1 Axes>"
      ]
     },
     "metadata": {
      "needs_background": "light"
     },
     "output_type": "display_data"
    }
   ],
   "source": [
    "#identifikasi outlier kolom payment_value\n",
    "\n",
    "fig, ax = plt.subplots(figsize= (10,6))\n",
    "\n",
    "sns.histplot(data=payments, x='payment_value')"
   ]
  },
  {
   "cell_type": "code",
   "execution_count": 13,
   "id": "fe6617d0",
   "metadata": {},
   "outputs": [],
   "source": [
    "# perhitungan Q1 dan Q3 data payment_value\n",
    "Q1_payment_value = payments.payment_value.quantile(0.25)\n",
    "Q3_payment_value = payments.payment_value.quantile(0.75)\n",
    "\n",
    "\n",
    "# perhitungan batas bawah dan batas atas\n",
    "batas_bawah_payment_value = Q1_payment_value - (Q3_payment_value - Q1_payment_value)*1.5\n",
    "batas_atas_payment_value = Q3_payment_value + (Q3_payment_value - Q1_payment_value)*1.5\n",
    "\n",
    "#perhitungan median kolom payment_value\n",
    "median_payment_value = payments['payment_value'].median()\n",
    "\n",
    "#imputasi median ke data outlier\n",
    "payment_handling_outlier = payments\n",
    "payment_handling_outlier.loc[payment_handling_outlier['payment_value'] > batas_atas_payment_value, 'payment_value'] = median_payment_value"
   ]
  },
  {
   "cell_type": "code",
   "execution_count": 14,
   "id": "5a0a6b6a",
   "metadata": {},
   "outputs": [
    {
     "data": {
      "text/plain": [
       "<AxesSubplot:xlabel='payment_value', ylabel='Count'>"
      ]
     },
     "execution_count": 14,
     "metadata": {},
     "output_type": "execute_result"
    },
    {
     "data": {
      "image/png": "[encoded data removed]",
      "text/plain": [
       "<Figure size 720x432 with 1 Axes>"
      ]
     },
     "metadata": {
      "needs_background": "light"
     },
     "output_type": "display_data"
    }
   ],
   "source": [
    "#menampilkan distribusi tabel payment setelah handle outlier\n",
    "fig, ax = plt.subplots(figsize= (10,6))\n",
    "\n",
    "sns.histplot(data=payment_handling_outlier, x='payment_value')"
   ]
  },
  {
   "cell_type": "code",
   "execution_count": 15,
   "id": "7007418b",
   "metadata": {},
   "outputs": [
    {
     "data": {
      "text/plain": [
       "product_category_name         1.851234\n",
       "product_name_lenght           1.851234\n",
       "product_description_lenght    1.851234\n",
       "product_photos_qty            1.851234\n",
       "product_weight_g              0.006070\n",
       "product_length_cm             0.006070\n",
       "product_height_cm             0.006070\n",
       "product_width_cm              0.006070\n",
       "index                         0.000000\n",
       "product_id                    0.000000\n",
       "dtype: float64"
      ]
     },
     "execution_count": 15,
     "metadata": {},
     "output_type": "execute_result"
    }
   ],
   "source": [
    "#identifikasi missing value\n",
    "(products.isna().sum()/len(products)*100).sort_values(ascending=False)"
   ]
  },
  {
   "cell_type": "code",
   "execution_count": 16,
   "id": "b2c681b8",
   "metadata": {},
   "outputs": [
    {
     "data": {
      "text/html": [
       "<div>\n",
       "<style scoped>\n",
       "    .dataframe tbody tr th:only-of-type {\n",
       "        vertical-align: middle;\n",
       "    }\n",
       "\n",
       "    .dataframe tbody tr th {\n",
       "        vertical-align: top;\n",
       "    }\n",
       "\n",
       "    .dataframe thead th {\n",
       "        text-align: right;\n",
       "    }\n",
       "</style>\n",
       "<table border=\"1\" class=\"dataframe\">\n",
       "  <thead>\n",
       "    <tr style=\"text-align: right;\">\n",
       "      <th></th>\n",
       "      <th>index</th>\n",
       "      <th>product_id</th>\n",
       "      <th>product_category_name</th>\n",
       "      <th>product_name_lenght</th>\n",
       "      <th>product_description_lenght</th>\n",
       "      <th>product_photos_qty</th>\n",
       "      <th>product_weight_g</th>\n",
       "      <th>product_length_cm</th>\n",
       "      <th>product_height_cm</th>\n",
       "      <th>product_width_cm</th>\n",
       "    </tr>\n",
       "  </thead>\n",
       "  <tbody>\n",
       "    <tr>\n",
       "      <th>105</th>\n",
       "      <td>105</td>\n",
       "      <td>a41e356c76fab66334f36de622ecbd3a</td>\n",
       "      <td>None</td>\n",
       "      <td>NaN</td>\n",
       "      <td>NaN</td>\n",
       "      <td>NaN</td>\n",
       "      <td>650.0</td>\n",
       "      <td>17.0</td>\n",
       "      <td>14.0</td>\n",
       "      <td>12.0</td>\n",
       "    </tr>\n",
       "    <tr>\n",
       "      <th>128</th>\n",
       "      <td>128</td>\n",
       "      <td>d8dee61c2034d6d075997acef1870e9b</td>\n",
       "      <td>None</td>\n",
       "      <td>NaN</td>\n",
       "      <td>NaN</td>\n",
       "      <td>NaN</td>\n",
       "      <td>300.0</td>\n",
       "      <td>16.0</td>\n",
       "      <td>7.0</td>\n",
       "      <td>20.0</td>\n",
       "    </tr>\n",
       "    <tr>\n",
       "      <th>145</th>\n",
       "      <td>145</td>\n",
       "      <td>56139431d72cd51f19eb9f7dae4d1617</td>\n",
       "      <td>None</td>\n",
       "      <td>NaN</td>\n",
       "      <td>NaN</td>\n",
       "      <td>NaN</td>\n",
       "      <td>200.0</td>\n",
       "      <td>20.0</td>\n",
       "      <td>20.0</td>\n",
       "      <td>20.0</td>\n",
       "    </tr>\n",
       "    <tr>\n",
       "      <th>154</th>\n",
       "      <td>154</td>\n",
       "      <td>46b48281eb6d663ced748f324108c733</td>\n",
       "      <td>None</td>\n",
       "      <td>NaN</td>\n",
       "      <td>NaN</td>\n",
       "      <td>NaN</td>\n",
       "      <td>18500.0</td>\n",
       "      <td>41.0</td>\n",
       "      <td>30.0</td>\n",
       "      <td>41.0</td>\n",
       "    </tr>\n",
       "    <tr>\n",
       "      <th>197</th>\n",
       "      <td>197</td>\n",
       "      <td>5fb61f482620cb672f5e586bb132eae9</td>\n",
       "      <td>None</td>\n",
       "      <td>NaN</td>\n",
       "      <td>NaN</td>\n",
       "      <td>NaN</td>\n",
       "      <td>300.0</td>\n",
       "      <td>35.0</td>\n",
       "      <td>7.0</td>\n",
       "      <td>12.0</td>\n",
       "    </tr>\n",
       "    <tr>\n",
       "      <th>244</th>\n",
       "      <td>244</td>\n",
       "      <td>e10758160da97891c2fdcbc35f0f031d</td>\n",
       "      <td>None</td>\n",
       "      <td>NaN</td>\n",
       "      <td>NaN</td>\n",
       "      <td>NaN</td>\n",
       "      <td>2200.0</td>\n",
       "      <td>16.0</td>\n",
       "      <td>2.0</td>\n",
       "      <td>11.0</td>\n",
       "    </tr>\n",
       "    <tr>\n",
       "      <th>294</th>\n",
       "      <td>294</td>\n",
       "      <td>39e3b9b12cd0bf8ee681bbc1c130feb5</td>\n",
       "      <td>None</td>\n",
       "      <td>NaN</td>\n",
       "      <td>NaN</td>\n",
       "      <td>NaN</td>\n",
       "      <td>300.0</td>\n",
       "      <td>16.0</td>\n",
       "      <td>7.0</td>\n",
       "      <td>11.0</td>\n",
       "    </tr>\n",
       "    <tr>\n",
       "      <th>299</th>\n",
       "      <td>299</td>\n",
       "      <td>794de06c32a626a5692ff50e4985d36f</td>\n",
       "      <td>None</td>\n",
       "      <td>NaN</td>\n",
       "      <td>NaN</td>\n",
       "      <td>NaN</td>\n",
       "      <td>300.0</td>\n",
       "      <td>18.0</td>\n",
       "      <td>8.0</td>\n",
       "      <td>14.0</td>\n",
       "    </tr>\n",
       "    <tr>\n",
       "      <th>347</th>\n",
       "      <td>347</td>\n",
       "      <td>7af3e2da474486a3519b0cba9dea8ad9</td>\n",
       "      <td>None</td>\n",
       "      <td>NaN</td>\n",
       "      <td>NaN</td>\n",
       "      <td>NaN</td>\n",
       "      <td>200.0</td>\n",
       "      <td>22.0</td>\n",
       "      <td>14.0</td>\n",
       "      <td>14.0</td>\n",
       "    </tr>\n",
       "    <tr>\n",
       "      <th>428</th>\n",
       "      <td>428</td>\n",
       "      <td>629beb8e7317703dcc5f35b5463fd20e</td>\n",
       "      <td>None</td>\n",
       "      <td>NaN</td>\n",
       "      <td>NaN</td>\n",
       "      <td>NaN</td>\n",
       "      <td>1400.0</td>\n",
       "      <td>25.0</td>\n",
       "      <td>25.0</td>\n",
       "      <td>25.0</td>\n",
       "    </tr>\n",
       "  </tbody>\n",
       "</table>\n",
       "</div>"
      ],
      "text/plain": [
       "     index                        product_id product_category_name  \\\n",
       "105    105  a41e356c76fab66334f36de622ecbd3a                  None   \n",
       "128    128  d8dee61c2034d6d075997acef1870e9b                  None   \n",
       "145    145  56139431d72cd51f19eb9f7dae4d1617                  None   \n",
       "154    154  46b48281eb6d663ced748f324108c733                  None   \n",
       "197    197  5fb61f482620cb672f5e586bb132eae9                  None   \n",
       "244    244  e10758160da97891c2fdcbc35f0f031d                  None   \n",
       "294    294  39e3b9b12cd0bf8ee681bbc1c130feb5                  None   \n",
       "299    299  794de06c32a626a5692ff50e4985d36f                  None   \n",
       "347    347  7af3e2da474486a3519b0cba9dea8ad9                  None   \n",
       "428    428  629beb8e7317703dcc5f35b5463fd20e                  None   \n",
       "\n",
       "     product_name_lenght  product_description_lenght  product_photos_qty  \\\n",
       "105                  NaN                         NaN                 NaN   \n",
       "128                  NaN                         NaN                 NaN   \n",
       "145                  NaN                         NaN                 NaN   \n",
       "154                  NaN                         NaN                 NaN   \n",
       "197                  NaN                         NaN                 NaN   \n",
       "244                  NaN                         NaN                 NaN   \n",
       "294                  NaN                         NaN                 NaN   \n",
       "299                  NaN                         NaN                 NaN   \n",
       "347                  NaN                         NaN                 NaN   \n",
       "428                  NaN                         NaN                 NaN   \n",
       "\n",
       "     product_weight_g  product_length_cm  product_height_cm  product_width_cm  \n",
       "105             650.0               17.0               14.0              12.0  \n",
       "128             300.0               16.0                7.0              20.0  \n",
       "145             200.0               20.0               20.0              20.0  \n",
       "154           18500.0               41.0               30.0              41.0  \n",
       "197             300.0               35.0                7.0              12.0  \n",
       "244            2200.0               16.0                2.0              11.0  \n",
       "294             300.0               16.0                7.0              11.0  \n",
       "299             300.0               18.0                8.0              14.0  \n",
       "347             200.0               22.0               14.0              14.0  \n",
       "428            1400.0               25.0               25.0              25.0  "
      ]
     },
     "execution_count": 16,
     "metadata": {},
     "output_type": "execute_result"
    }
   ],
   "source": [
    "#menampilkan tabel yang terdapat missing values\n",
    "products_missing = products[products.isnull().any(axis=1)]\n",
    "products_missing.head(10)"
   ]
  },
  {
   "cell_type": "code",
   "execution_count": 17,
   "id": "54532a66",
   "metadata": {},
   "outputs": [],
   "source": [
    "#drop data yang terdapat missing values\n",
    "products_handle_missing_values = products.dropna()"
   ]
  },
  {
   "cell_type": "code",
   "execution_count": 18,
   "id": "e6249a97",
   "metadata": {},
   "outputs": [
    {
     "data": {
      "text/plain": [
       "index                         0.0\n",
       "product_id                    0.0\n",
       "product_category_name         0.0\n",
       "product_name_lenght           0.0\n",
       "product_description_lenght    0.0\n",
       "product_photos_qty            0.0\n",
       "product_weight_g              0.0\n",
       "product_length_cm             0.0\n",
       "product_height_cm             0.0\n",
       "product_width_cm              0.0\n",
       "dtype: float64"
      ]
     },
     "execution_count": 18,
     "metadata": {},
     "output_type": "execute_result"
    }
   ],
   "source": [
    "#identifikasi missing value\n",
    "(products_handle_missing_values.isna().sum()/len(products)*100).sort_values(ascending=False)"
   ]
  },
  {
   "cell_type": "code",
   "execution_count": 26,
   "id": "2af29243",
   "metadata": {},
   "outputs": [
    {
     "data": {
      "text/html": [
       "<div>\n",
       "<style scoped>\n",
       "    .dataframe tbody tr th:only-of-type {\n",
       "        vertical-align: middle;\n",
       "    }\n",
       "\n",
       "    .dataframe tbody tr th {\n",
       "        vertical-align: top;\n",
       "    }\n",
       "\n",
       "    .dataframe thead th {\n",
       "        text-align: right;\n",
       "    }\n",
       "</style>\n",
       "<table border=\"1\" class=\"dataframe\">\n",
       "  <thead>\n",
       "    <tr style=\"text-align: right;\">\n",
       "      <th></th>\n",
       "      <th>order_id</th>\n",
       "      <th>price</th>\n",
       "      <th>product_category_name_english</th>\n",
       "    </tr>\n",
       "  </thead>\n",
       "  <tbody>\n",
       "    <tr>\n",
       "      <th>0</th>\n",
       "      <td>e481f51cbdc54678b7cc49136f2d6af7</td>\n",
       "      <td>29.99</td>\n",
       "      <td>housewares</td>\n",
       "    </tr>\n",
       "    <tr>\n",
       "      <th>1</th>\n",
       "      <td>128e10d95713541c87cd1a2e48201934</td>\n",
       "      <td>29.99</td>\n",
       "      <td>housewares</td>\n",
       "    </tr>\n",
       "    <tr>\n",
       "      <th>2</th>\n",
       "      <td>0e7e841ddf8f8f2de2bad69267ecfbcf</td>\n",
       "      <td>29.99</td>\n",
       "      <td>housewares</td>\n",
       "    </tr>\n",
       "    <tr>\n",
       "      <th>3</th>\n",
       "      <td>bfc39df4f36c3693ff3b63fcbea9e90a</td>\n",
       "      <td>29.99</td>\n",
       "      <td>housewares</td>\n",
       "    </tr>\n",
       "    <tr>\n",
       "      <th>4</th>\n",
       "      <td>6ea2f835b4556291ffdc53fa0b3b95e8</td>\n",
       "      <td>74.99</td>\n",
       "      <td>housewares</td>\n",
       "    </tr>\n",
       "    <tr>\n",
       "      <th>...</th>\n",
       "      <td>...</td>\n",
       "      <td>...</td>\n",
       "      <td>...</td>\n",
       "    </tr>\n",
       "    <tr>\n",
       "      <th>111018</th>\n",
       "      <td>0b82d0616f1ad8da15cf967b984b4004</td>\n",
       "      <td>25.00</td>\n",
       "      <td>arts_and_craftmanship</td>\n",
       "    </tr>\n",
       "    <tr>\n",
       "      <th>111019</th>\n",
       "      <td>2ef4a11b6e24fdfbb43b92cb5f95edff</td>\n",
       "      <td>19.00</td>\n",
       "      <td>arts_and_craftmanship</td>\n",
       "    </tr>\n",
       "    <tr>\n",
       "      <th>111020</th>\n",
       "      <td>2ef4a11b6e24fdfbb43b92cb5f95edff</td>\n",
       "      <td>39.90</td>\n",
       "      <td>arts_and_craftmanship</td>\n",
       "    </tr>\n",
       "    <tr>\n",
       "      <th>111021</th>\n",
       "      <td>2c4ada2e75c2ad41dd93cebb5df5f023</td>\n",
       "      <td>183.29</td>\n",
       "      <td>security_and_services</td>\n",
       "    </tr>\n",
       "    <tr>\n",
       "      <th>111022</th>\n",
       "      <td>bede3503afed051733eeb4a84d1adcc5</td>\n",
       "      <td>100.00</td>\n",
       "      <td>security_and_services</td>\n",
       "    </tr>\n",
       "  </tbody>\n",
       "</table>\n",
       "<p>111023 rows × 3 columns</p>\n",
       "</div>"
      ],
      "text/plain": [
       "                                order_id   price product_category_name_english\n",
       "0       e481f51cbdc54678b7cc49136f2d6af7   29.99                    housewares\n",
       "1       128e10d95713541c87cd1a2e48201934   29.99                    housewares\n",
       "2       0e7e841ddf8f8f2de2bad69267ecfbcf   29.99                    housewares\n",
       "3       bfc39df4f36c3693ff3b63fcbea9e90a   29.99                    housewares\n",
       "4       6ea2f835b4556291ffdc53fa0b3b95e8   74.99                    housewares\n",
       "...                                  ...     ...                           ...\n",
       "111018  0b82d0616f1ad8da15cf967b984b4004   25.00         arts_and_craftmanship\n",
       "111019  2ef4a11b6e24fdfbb43b92cb5f95edff   19.00         arts_and_craftmanship\n",
       "111020  2ef4a11b6e24fdfbb43b92cb5f95edff   39.90         arts_and_craftmanship\n",
       "111021  2c4ada2e75c2ad41dd93cebb5df5f023  183.29         security_and_services\n",
       "111022  bede3503afed051733eeb4a84d1adcc5  100.00         security_and_services\n",
       "\n",
       "[111023 rows x 3 columns]"
      ]
     },
     "execution_count": 26,
     "metadata": {},
     "output_type": "execute_result"
    }
   ],
   "source": [
    "#2. DATA ANALISIS\n",
    "#a.Produk Yang Paling banyak diminati\n",
    "\n",
    "#Menggabungkan kolom orders, payments dan order items\n",
    "merge_order_orderItems = pd.merge(orders,order_items, on= 'order_id')\n",
    "merge_order_orderItems_payments = pd.merge(merge_order_orderItems, payments, on= 'order_id')\n",
    "\n",
    "#memilih kolom kolom yang ditampilkan\n",
    "merge_order_orderItems_payments = merge_order_orderItems_payments[['order_id','order_status','order_purchase_timestamp','price','freight_value','payment_type','payment_value']]\n",
    "merge_order_orderItems_payments.head(5)\n",
    "\n",
    "#menggabungkan kolom orders, order_items, products dan product category name translation\n",
    "merge_order_orderItems_products = pd.merge(merge_order_orderItems,products, on= 'product_id')\n",
    "merge_order_orderItems_products_productCategory = pd.merge(merge_order_orderItems_products, product_category_name_translation, on= 'product_category_name', suffixes=('_order_items', '_product_category' ))\n",
    "\n",
    "#menampilkan kolom yang dipilih\n",
    "merge_order_orderItems_products_productCategory = merge_order_orderItems_products_productCategory[['order_id','price','product_category_name_english']]\n",
    "merge_order_orderItems_products_productCategory"
   ]
  },
  {
   "cell_type": "code",
   "execution_count": 27,
   "id": "eee2891c",
   "metadata": {},
   "outputs": [
    {
     "data": {
      "text/html": [
       "<div>\n",
       "<style scoped>\n",
       "    .dataframe tbody tr th:only-of-type {\n",
       "        vertical-align: middle;\n",
       "    }\n",
       "\n",
       "    .dataframe tbody tr th {\n",
       "        vertical-align: top;\n",
       "    }\n",
       "\n",
       "    .dataframe thead th {\n",
       "        text-align: right;\n",
       "    }\n",
       "</style>\n",
       "<table border=\"1\" class=\"dataframe\">\n",
       "  <thead>\n",
       "    <tr style=\"text-align: right;\">\n",
       "      <th></th>\n",
       "      <th>product_category_name_english</th>\n",
       "      <th>price</th>\n",
       "    </tr>\n",
       "  </thead>\n",
       "  <tbody>\n",
       "    <tr>\n",
       "      <th>7</th>\n",
       "      <td>bed_bath_table</td>\n",
       "      <td>959253.57</td>\n",
       "    </tr>\n",
       "    <tr>\n",
       "      <th>43</th>\n",
       "      <td>health_beauty</td>\n",
       "      <td>764398.15</td>\n",
       "    </tr>\n",
       "    <tr>\n",
       "      <th>65</th>\n",
       "      <td>sports_leisure</td>\n",
       "      <td>753610.55</td>\n",
       "    </tr>\n",
       "    <tr>\n",
       "      <th>15</th>\n",
       "      <td>computers_accessories</td>\n",
       "      <td>704334.03</td>\n",
       "    </tr>\n",
       "    <tr>\n",
       "      <th>70</th>\n",
       "      <td>watches_gifts</td>\n",
       "      <td>657062.78</td>\n",
       "    </tr>\n",
       "  </tbody>\n",
       "</table>\n",
       "</div>"
      ],
      "text/plain": [
       "   product_category_name_english      price\n",
       "7                 bed_bath_table  959253.57\n",
       "43                 health_beauty  764398.15\n",
       "65                sports_leisure  753610.55\n",
       "15         computers_accessories  704334.03\n",
       "70                 watches_gifts  657062.78"
      ]
     },
     "execution_count": 27,
     "metadata": {},
     "output_type": "execute_result"
    }
   ],
   "source": [
    "# membuat grouping total penjualan berdasarkan kategori\n",
    "grouping_penjualan_berdasarkan_kategori = merge_order_orderItems_products_productCategory.groupby('product_category_name_english').agg({'price':'sum'}).reset_index()\n",
    "top5_penjualan_berdasarkan_kategori = grouping_penjualan_berdasarkan_kategori.nlargest(5,'price')\n",
    "top5_penjualan_berdasarkan_kategori"
   ]
  },
  {
   "cell_type": "code",
   "execution_count": 28,
   "id": "5fbbb850",
   "metadata": {},
   "outputs": [
    {
     "data": {
      "image/png": "[encoded data removed]",
      "text/plain": [
       "<Figure size 864x432 with 1 Axes>"
      ]
     },
     "metadata": {
      "needs_background": "light"
     },
     "output_type": "display_data"
    }
   ],
   "source": [
    "# membuat visualisasi\n",
    "\n",
    "## membuat figure\n",
    "plt.figure(figsize=(12, 6))\n",
    "\n",
    "## membuat plot\n",
    "sns.barplot(data=top5_penjualan_berdasarkan_kategori, x='product_category_name_english', y='price')\n",
    "\n",
    "## membuat nama judul plot\n",
    "plt.title('Total Penjualan Berdasarkan Kategori Produk', fontsize= 15)\n",
    "\n",
    "## membuat nama label x\n",
    "plt.xlabel('Kategori produk')\n",
    "\n",
    "## membuat nama label y\n",
    "plt.ylabel('Total Penjualan')\n",
    "\n",
    "## menampilkan plot\n",
    "plt.show()\n",
    "\n"
   ]
  },
  {
   "cell_type": "code",
   "execution_count": 29,
   "id": "312d648e",
   "metadata": {},
   "outputs": [
    {
     "data": {
      "text/html": [
       "<div>\n",
       "<style scoped>\n",
       "    .dataframe tbody tr th:only-of-type {\n",
       "        vertical-align: middle;\n",
       "    }\n",
       "\n",
       "    .dataframe tbody tr th {\n",
       "        vertical-align: top;\n",
       "    }\n",
       "\n",
       "    .dataframe thead th {\n",
       "        text-align: right;\n",
       "    }\n",
       "</style>\n",
       "<table border=\"1\" class=\"dataframe\">\n",
       "  <thead>\n",
       "    <tr style=\"text-align: right;\">\n",
       "      <th></th>\n",
       "      <th>Bulan</th>\n",
       "      <th>Total_Penjualan</th>\n",
       "    </tr>\n",
       "  </thead>\n",
       "  <tbody>\n",
       "    <tr>\n",
       "      <th>0</th>\n",
       "      <td>2016-09-01</td>\n",
       "      <td>347.52</td>\n",
       "    </tr>\n",
       "    <tr>\n",
       "      <th>1</th>\n",
       "      <td>2016-10-01</td>\n",
       "      <td>44476.85</td>\n",
       "    </tr>\n",
       "    <tr>\n",
       "      <th>2</th>\n",
       "      <td>2016-12-01</td>\n",
       "      <td>19.62</td>\n",
       "    </tr>\n",
       "    <tr>\n",
       "      <th>3</th>\n",
       "      <td>2017-01-01</td>\n",
       "      <td>111026.96</td>\n",
       "    </tr>\n",
       "    <tr>\n",
       "      <th>4</th>\n",
       "      <td>2017-02-01</td>\n",
       "      <td>228041.56</td>\n",
       "    </tr>\n",
       "    <tr>\n",
       "      <th>5</th>\n",
       "      <td>2017-03-01</td>\n",
       "      <td>351646.98</td>\n",
       "    </tr>\n",
       "    <tr>\n",
       "      <th>6</th>\n",
       "      <td>2017-04-01</td>\n",
       "      <td>320413.20</td>\n",
       "    </tr>\n",
       "    <tr>\n",
       "      <th>7</th>\n",
       "      <td>2017-05-01</td>\n",
       "      <td>483650.37</td>\n",
       "    </tr>\n",
       "    <tr>\n",
       "      <th>8</th>\n",
       "      <td>2017-06-01</td>\n",
       "      <td>405163.14</td>\n",
       "    </tr>\n",
       "    <tr>\n",
       "      <th>9</th>\n",
       "      <td>2017-07-01</td>\n",
       "      <td>529416.56</td>\n",
       "    </tr>\n",
       "    <tr>\n",
       "      <th>10</th>\n",
       "      <td>2017-08-01</td>\n",
       "      <td>572168.91</td>\n",
       "    </tr>\n",
       "    <tr>\n",
       "      <th>11</th>\n",
       "      <td>2017-09-01</td>\n",
       "      <td>576301.92</td>\n",
       "    </tr>\n",
       "    <tr>\n",
       "      <th>12</th>\n",
       "      <td>2017-10-01</td>\n",
       "      <td>637176.76</td>\n",
       "    </tr>\n",
       "    <tr>\n",
       "      <th>13</th>\n",
       "      <td>2017-11-01</td>\n",
       "      <td>1031955.66</td>\n",
       "    </tr>\n",
       "    <tr>\n",
       "      <th>14</th>\n",
       "      <td>2017-12-01</td>\n",
       "      <td>755365.71</td>\n",
       "    </tr>\n",
       "    <tr>\n",
       "      <th>15</th>\n",
       "      <td>2018-01-01</td>\n",
       "      <td>980952.54</td>\n",
       "    </tr>\n",
       "    <tr>\n",
       "      <th>16</th>\n",
       "      <td>2018-02-01</td>\n",
       "      <td>905346.58</td>\n",
       "    </tr>\n",
       "    <tr>\n",
       "      <th>17</th>\n",
       "      <td>2018-03-01</td>\n",
       "      <td>990946.99</td>\n",
       "    </tr>\n",
       "    <tr>\n",
       "      <th>18</th>\n",
       "      <td>2018-04-01</td>\n",
       "      <td>972057.67</td>\n",
       "    </tr>\n",
       "    <tr>\n",
       "      <th>19</th>\n",
       "      <td>2018-05-01</td>\n",
       "      <td>961250.68</td>\n",
       "    </tr>\n",
       "    <tr>\n",
       "      <th>20</th>\n",
       "      <td>2018-06-01</td>\n",
       "      <td>860525.46</td>\n",
       "    </tr>\n",
       "    <tr>\n",
       "      <th>21</th>\n",
       "      <td>2018-07-01</td>\n",
       "      <td>848905.68</td>\n",
       "    </tr>\n",
       "    <tr>\n",
       "      <th>22</th>\n",
       "      <td>2018-08-01</td>\n",
       "      <td>841659.94</td>\n",
       "    </tr>\n",
       "    <tr>\n",
       "      <th>23</th>\n",
       "      <td>2018-09-01</td>\n",
       "      <td>166.46</td>\n",
       "    </tr>\n",
       "  </tbody>\n",
       "</table>\n",
       "</div>"
      ],
      "text/plain": [
       "        Bulan  Total_Penjualan\n",
       "0  2016-09-01           347.52\n",
       "1  2016-10-01         44476.85\n",
       "2  2016-12-01            19.62\n",
       "3  2017-01-01        111026.96\n",
       "4  2017-02-01        228041.56\n",
       "5  2017-03-01        351646.98\n",
       "6  2017-04-01        320413.20\n",
       "7  2017-05-01        483650.37\n",
       "8  2017-06-01        405163.14\n",
       "9  2017-07-01        529416.56\n",
       "10 2017-08-01        572168.91\n",
       "11 2017-09-01        576301.92\n",
       "12 2017-10-01        637176.76\n",
       "13 2017-11-01       1031955.66\n",
       "14 2017-12-01        755365.71\n",
       "15 2018-01-01        980952.54\n",
       "16 2018-02-01        905346.58\n",
       "17 2018-03-01        990946.99\n",
       "18 2018-04-01        972057.67\n",
       "19 2018-05-01        961250.68\n",
       "20 2018-06-01        860525.46\n",
       "21 2018-07-01        848905.68\n",
       "22 2018-08-01        841659.94\n",
       "23 2018-09-01           166.46"
      ]
     },
     "execution_count": 29,
     "metadata": {},
     "output_type": "execute_result"
    }
   ],
   "source": [
    "#b.Trend Penjualan dari bulan ke bulan\n",
    "\n",
    "#menambahkan kolom month\n",
    "merge_order_orderItems_payments['month'] = merge_order_orderItems_payments['order_purchase_timestamp'].dt.to_period('M')\n",
    "\n",
    "#grouping\n",
    "total_penjualan = merge_order_orderItems_payments.groupby('month')['payment_value'].sum()\n",
    "df_total_penjualan = total_penjualan.reset_index()\n",
    "df_total_penjualan.columns = ['Bulan', 'Total_Penjualan']\n",
    "df_total_penjualan['Bulan'] = df_total_penjualan['Bulan'].dt.to_timestamp()\n",
    "df_total_penjualan"
   ]
  },
  {
   "cell_type": "code",
   "execution_count": 30,
   "id": "c1bfa042",
   "metadata": {},
   "outputs": [
    {
     "data": {
      "image/png": "[encoded data removed]",
      "text/plain": [
       "<Figure size 864x432 with 1 Axes>"
      ]
     },
     "metadata": {},
     "output_type": "display_data"
    }
   ],
   "source": [
    "# visualisasi\n",
    "\n",
    "## membuat grid\n",
    "sns.set_style(\"whitegrid\")\n",
    "\n",
    "## membuat figure\n",
    "plt.figure(figsize=(12, 6))\n",
    "\n",
    "## membuat plot\n",
    "sns.lineplot(data=df_total_penjualan, x='Bulan', y='Total_Penjualan')\n",
    "\n",
    "## memberi judul plot\n",
    "plt.title('Tren Penjualan dari Bulan ke Bulan', fontsize= 15)\n",
    "\n",
    "## memberi nama label x\n",
    "plt.xlabel('Bulan')\n",
    "\n",
    "## memberi nama label y\n",
    "plt.ylabel('Total Penjualan')\n",
    "\n",
    "## menampilkan kolom y dengan angka real\n",
    "plt.ticklabel_format(style='plain', axis='y')\n",
    "\n",
    "## memiringkan label x\n",
    "plt.xticks(rotation=45)\n",
    "\n",
    "## menampilkan shop\n",
    "plt.show()"
   ]
  },
  {
   "cell_type": "code",
   "execution_count": 32,
   "id": "a6975d58",
   "metadata": {},
   "outputs": [],
   "source": [
    "#c.5 Kota dengan pemesanan terbanyak\n",
    "#menggabungkan tabel customers dan orders\n",
    "merged_customers_orders = pd.merge(orders, customers, on='customer_id')"
   ]
  },
  {
   "cell_type": "code",
   "execution_count": 33,
   "id": "4f05d841",
   "metadata": {},
   "outputs": [
    {
     "data": {
      "text/html": [
       "<div>\n",
       "<style scoped>\n",
       "    .dataframe tbody tr th:only-of-type {\n",
       "        vertical-align: middle;\n",
       "    }\n",
       "\n",
       "    .dataframe tbody tr th {\n",
       "        vertical-align: top;\n",
       "    }\n",
       "\n",
       "    .dataframe thead th {\n",
       "        text-align: right;\n",
       "    }\n",
       "</style>\n",
       "<table border=\"1\" class=\"dataframe\">\n",
       "  <thead>\n",
       "    <tr style=\"text-align: right;\">\n",
       "      <th></th>\n",
       "      <th>customer_city</th>\n",
       "      <th>order_id</th>\n",
       "    </tr>\n",
       "  </thead>\n",
       "  <tbody>\n",
       "    <tr>\n",
       "      <th>0</th>\n",
       "      <td>sao paulo</td>\n",
       "      <td>15540</td>\n",
       "    </tr>\n",
       "    <tr>\n",
       "      <th>1</th>\n",
       "      <td>rio de janeiro</td>\n",
       "      <td>6882</td>\n",
       "    </tr>\n",
       "    <tr>\n",
       "      <th>2</th>\n",
       "      <td>belo horizonte</td>\n",
       "      <td>2773</td>\n",
       "    </tr>\n",
       "    <tr>\n",
       "      <th>3</th>\n",
       "      <td>brasilia</td>\n",
       "      <td>2131</td>\n",
       "    </tr>\n",
       "    <tr>\n",
       "      <th>4</th>\n",
       "      <td>curitiba</td>\n",
       "      <td>1521</td>\n",
       "    </tr>\n",
       "  </tbody>\n",
       "</table>\n",
       "</div>"
      ],
      "text/plain": [
       "    customer_city  order_id\n",
       "0       sao paulo     15540\n",
       "1  rio de janeiro      6882\n",
       "2  belo horizonte      2773\n",
       "3        brasilia      2131\n",
       "4        curitiba      1521"
      ]
     },
     "execution_count": 33,
     "metadata": {},
     "output_type": "execute_result"
    }
   ],
   "source": [
    "#membuat tabel 5 kota dengan pemesanan terbanyak\n",
    "top5_largest_orders = merged_customers_orders.groupby('customer_city').agg({'order_id': 'count'}).nlargest(5, 'order_id').reset_index()\n",
    "top5_largest_orders"
   ]
  },
  {
   "cell_type": "code",
   "execution_count": 34,
   "id": "67448d6a",
   "metadata": {},
   "outputs": [
    {
     "data": {
      "image/png": "[encoded data removed]",
      "text/plain": [
       "<Figure size 720x432 with 1 Axes>"
      ]
     },
     "metadata": {},
     "output_type": "display_data"
    }
   ],
   "source": [
    "#membuat visualisasi \n",
    "\n",
    "## membuat figure\n",
    "fig, ax = plt.subplots(figsize = (10,6))\n",
    "\n",
    "## membuat plot\n",
    "sns.barplot(data=top5_largest_orders, x='customer_city', y='order_id')\n",
    "\n",
    "## membuat nama judul plot\n",
    "plt.title('5 kota dengan pemesanan terbanyak', fontsize= 15)\n",
    "\n",
    "## membuat nama label x\n",
    "plt.xlabel('kota')\n",
    "\n",
    "## membuat nama label y\n",
    "plt.ylabel('Jumlah Order')\n",
    "\n",
    "## menampilkan plot\n",
    "plt.show()"
   ]
  },
  {
   "cell_type": "code",
   "execution_count": 36,
   "id": "650d1eec",
   "metadata": {},
   "outputs": [
    {
     "data": {
      "text/html": [
       "<div>\n",
       "<style scoped>\n",
       "    .dataframe tbody tr th:only-of-type {\n",
       "        vertical-align: middle;\n",
       "    }\n",
       "\n",
       "    .dataframe tbody tr th {\n",
       "        vertical-align: top;\n",
       "    }\n",
       "\n",
       "    .dataframe thead th {\n",
       "        text-align: right;\n",
       "    }\n",
       "</style>\n",
       "<table border=\"1\" class=\"dataframe\">\n",
       "  <thead>\n",
       "    <tr style=\"text-align: right;\">\n",
       "      <th></th>\n",
       "      <th>payment_type</th>\n",
       "      <th>order_id</th>\n",
       "    </tr>\n",
       "  </thead>\n",
       "  <tbody>\n",
       "    <tr>\n",
       "      <th>1</th>\n",
       "      <td>credit_card</td>\n",
       "      <td>76795</td>\n",
       "    </tr>\n",
       "    <tr>\n",
       "      <th>0</th>\n",
       "      <td>boleto</td>\n",
       "      <td>19784</td>\n",
       "    </tr>\n",
       "    <tr>\n",
       "      <th>4</th>\n",
       "      <td>voucher</td>\n",
       "      <td>5775</td>\n",
       "    </tr>\n",
       "    <tr>\n",
       "      <th>2</th>\n",
       "      <td>debit_card</td>\n",
       "      <td>1529</td>\n",
       "    </tr>\n",
       "    <tr>\n",
       "      <th>3</th>\n",
       "      <td>not_defined</td>\n",
       "      <td>3</td>\n",
       "    </tr>\n",
       "  </tbody>\n",
       "</table>\n",
       "</div>"
      ],
      "text/plain": [
       "  payment_type  order_id\n",
       "1  credit_card     76795\n",
       "0       boleto     19784\n",
       "4      voucher      5775\n",
       "2   debit_card      1529\n",
       "3  not_defined         3"
      ]
     },
     "execution_count": 36,
     "metadata": {},
     "output_type": "execute_result"
    }
   ],
   "source": [
    "#d.Metode Pembayaran yang paling banyak digunakan\n",
    "# grouping tabel payments\n",
    "total_penjualan_berdasarkan_metode_pembayaran = payments.groupby('payment_type').agg({'order_id':'count'}).reset_index().sort_values(by= 'order_id', ascending=False)\n",
    "total_penjualan_berdasarkan_metode_pembayaran"
   ]
  },
  {
   "cell_type": "code",
   "execution_count": 37,
   "id": "db0c5e39",
   "metadata": {},
   "outputs": [
    {
     "data": {
      "image/png": "[encoded data removed]",
      "text/plain": [
       "<Figure size 864x432 with 1 Axes>"
      ]
     },
     "metadata": {},
     "output_type": "display_data"
    }
   ],
   "source": [
    "# membuat visualisasi\n",
    "\n",
    "## membuat figure\n",
    "plt.figure(figsize=(12, 6))\n",
    "\n",
    "## membuat plot\n",
    "sns.barplot(data=total_penjualan_berdasarkan_metode_pembayaran, x='payment_type', y='order_id')\n",
    "\n",
    "## membuat nama judul plot\n",
    "plt.title('Jumlah Pemesanan Berdasarkan Tipe Pembayaran', fontsize= 15)\n",
    "\n",
    "## membuat nama label x\n",
    "plt.xlabel('Tipe Pembayaran')\n",
    "\n",
    "## membuat nama label y\n",
    "plt.ylabel('Jumlah Order')\n",
    "\n",
    "## menampilkan plot\n",
    "plt.show()"
   ]
  },
  {
   "cell_type": "code",
   "execution_count": 59,
   "id": "567eb262",
   "metadata": {},
   "outputs": [],
   "source": [
    "def count_plot(x, df, title, xlabel, ylabel, width, height, order = None, rotation=False, palette='winter', hue=None):\n",
    "    ncount = len(df)\n",
    "    plt.figure(figsize=(width,height))\n",
    "    ax = sns.countplot(x = x, palette=palette, order = order, hue=hue)\n",
    "    plt.title(title, fontsize=20)\n",
    "    if rotation:\n",
    "        plt.xticks(rotation = 'vertical')\n",
    "    plt.xlabel(xlabel, fontsize=15)\n",
    "    plt.ylabel(ylabel, fontsize=15)\n",
    "\n",
    "    ax.yaxis.set_label_position('left')\n",
    "    for p in ax.patches:\n",
    "        x=p.get_bbox().get_points()[:,0]\n",
    "        y=p.get_bbox().get_points()[1,1]\n",
    "        ax.annotate('{:.1f}%'.format(100.*y/ncount), (x.mean(), y), \n",
    "                ha='center', va='bottom') # set the alignment of the text\n",
    "\n",
    "    plt.show()\n",
    "    \n",
    "def bar_plot(x, y, df, title, xlabel, ylabel, width, height, order = None, rotation=False, palette='winter', hue=None):\n",
    "    ncount = len(df)\n",
    "    plt.figure(figsize=(width,height))\n",
    "    ax = sns.barplot(x = x, y=y, palette=palette, order = order, hue=hue)\n",
    "    plt.title(title, fontsize=20)\n",
    "    if rotation:\n",
    "        plt.xticks(rotation = 'vertical')\n",
    "    plt.xlabel(xlabel, fontsize=15)\n",
    "    plt.ylabel(ylabel, fontsize=15)\n",
    "\n",
    "    ax.yaxis.set_label_position('left')\n",
    "    for p in ax.patches:\n",
    "        x=p.get_bbox().get_points()[:,0]\n",
    "        y=p.get_bbox().get_points()[1,1]\n",
    "        ax.annotate('{:.1f}%'.format(100.*y/ncount), (x.mean(), y), \n",
    "                ha='center', va='bottom') # set the alignment of the text\n",
    "\n",
    "    plt.show()"
   ]
  },
  {
   "cell_type": "code",
   "execution_count": 58,
   "id": "938537f7",
   "metadata": {
    "scrolled": true
   },
   "outputs": [
    {
     "data": {
      "text/plain": [
       "delivered      96478\n",
       "shipped         1107\n",
       "canceled         625\n",
       "unavailable      609\n",
       "invoiced         314\n",
       "processing       301\n",
       "created            5\n",
       "approved           2\n",
       "Name: order_status, dtype: int64"
      ]
     },
     "execution_count": 58,
     "metadata": {},
     "output_type": "execute_result"
    }
   ],
   "source": [
    "orders.order_status.value_counts()"
   ]
  },
  {
   "cell_type": "code",
   "execution_count": 79,
   "id": "41974ae1",
   "metadata": {},
   "outputs": [
    {
     "data": {
      "text/plain": [
       "16    6675\n",
       "11    6578\n",
       "14    6569\n",
       "13    6518\n",
       "15    6454\n",
       "21    6217\n",
       "20    6193\n",
       "10    6177\n",
       "17    6150\n",
       "12    5995\n",
       "19    5982\n",
       "22    5816\n",
       "18    5769\n",
       "09    4785\n",
       "23    4123\n",
       "08    2967\n",
       "00    2394\n",
       "07    1231\n",
       "01    1170\n",
       "02     510\n",
       "06     502\n",
       "03     272\n",
       "04     206\n",
       "05     188\n",
       "Name: order_purchase_hour, dtype: int64"
      ]
     },
     "execution_count": 79,
     "metadata": {},
     "output_type": "execute_result"
    }
   ],
   "source": [
    "orders['order_purchase_hour'].value_counts()"
   ]
  },
  {
   "cell_type": "code",
   "execution_count": 83,
   "id": "6bb96fe4",
   "metadata": {},
   "outputs": [
    {
     "data": {
      "image/png": "[encoded data removed]",
      "text/plain": [
       "<Figure size 864x576 with 1 Axes>"
      ]
     },
     "metadata": {},
     "output_type": "display_data"
    }
   ],
   "source": [
    "x = orders['order_purchase_hour']\n",
    "order = [str(i).zfill(2) for i in range(24)]\n",
    "count_plot(x, orders, 'Order Purchase per hour', 'Hour', 'num of orders', 12, 8, order=order, palette='deep')"
   ]
  },
  {
   "cell_type": "code",
   "execution_count": 84,
   "id": "43f79734",
   "metadata": {},
   "outputs": [],
   "source": [
    "time_of_day = []\n",
    "for time in orders['order_purchase_hour']:\n",
    "    \n",
    "    try:\n",
    "        time = int(time)\n",
    "        if time >= 6 and time < 12:\n",
    "            time_of_day.append('Morning')\n",
    "        elif time >= 12 and time < 17:\n",
    "            time_of_day.append('Afternoon')\n",
    "        elif time >= 17 and time <= 20:\n",
    "            time_of_day.append('Evening')\n",
    "        else:\n",
    "            time_of_day.append('Night')\n",
    "            \n",
    "    except:\n",
    "        time_of_day.append('Unknown')"
   ]
  },
  {
   "cell_type": "code",
   "execution_count": 88,
   "id": "5675ec97",
   "metadata": {},
   "outputs": [],
   "source": [
    "orders['classification_time_purchase'] = time_of_day"
   ]
  },
  {
   "cell_type": "code",
   "execution_count": 86,
   "id": "78d38b55",
   "metadata": {},
   "outputs": [
    {
     "data": {
      "text/plain": [
       "Afternoon    32211\n",
       "Evening      24094\n",
       "Morning      22240\n",
       "Night        20896\n",
       "Name: classification_time_purchase, dtype: int64"
      ]
     },
     "execution_count": 86,
     "metadata": {},
     "output_type": "execute_result"
    }
   ],
   "source": [
    "orders['classification_time_purchase'].value_counts()"
   ]
  },
  {
   "cell_type": "code",
   "execution_count": 87,
   "id": "3c1122e4",
   "metadata": {},
   "outputs": [
    {
     "data": {
      "image/png": "[encoded data removed]",
      "text/plain": [
       "<Figure size 936x648 with 1 Axes>"
      ]
     },
     "metadata": {},
     "output_type": "display_data"
    }
   ],
   "source": [
    "x = orders['classification_time_purchase']\n",
    "order = x.value_counts().index\n",
    "count_plot(x, orders,'Total orders by time of the day', 'Time of day' , 'Frequency', 13,9, order=order, palette='dark')"
   ]
  }
 ],
 "metadata": {
  "kernelspec": {
   "display_name": "Python 3 (ipykernel)",
   "language": "python",
   "name": "python3"
  },
  "language_info": {
   "codemirror_mode": {
    "name": "ipython",
    "version": 3
   },
   "file_extension": ".py",
   "mimetype": "text/x-python",
   "name": "python",
   "nbconvert_exporter": "python",
   "pygments_lexer": "ipython3",
   "version": "3.9.7"
  }
 },
 "nbformat": 4,
 "nbformat_minor": 5
}
